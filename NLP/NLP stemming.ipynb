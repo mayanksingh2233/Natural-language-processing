{
 "cells": [
  {
   "cell_type": "markdown",
   "id": "139b2e9c",
   "metadata": {},
   "source": [
    "# Stemming"
   ]
  },
  {
   "cell_type": "code",
   "execution_count": 2,
   "id": "8b1e3c9f",
   "metadata": {},
   "outputs": [],
   "source": [
    "import nltk\n",
    "from nltk.stem import PorterStemmer\n",
    "from nltk.corpus import stopwords"
   ]
  },
  {
   "cell_type": "code",
   "execution_count": 3,
   "id": "970c385c",
   "metadata": {},
   "outputs": [],
   "source": [
    "paragraph=\"\"\"Dr. APJ Abdul Kalam was indeed one of the most humble, intelligent, wise, selfless, loving, \n",
    "and lovable leaders ever born. He was born on 15 October 1931 in Rameswaram, Tamil Nadu. He was the 11th \n",
    "President of India and served the country for one term. Not only this, but he also is one of the most famous\n",
    "scientists who have worked with highly famous organizations like DRDO (Defense Research and Development \n",
    "Organization) and ISRO (Indian Space Research Organization) in his career.\n",
    "\n",
    "He was a true gem and a person with no haters. But let us first know a little more about him. His full name was\n",
    "Avul Pakir Jainulabdeen Abdul Kalam. He was born in a middle-class Muslim family. Since the beginning of his days,\n",
    "he was a very hardworking and diligent person. In his early childhood, he helped his family to earn livelihood \n",
    "along with the studies. Being very intelligent and promising, he started his career and life soon.\"\"\""
   ]
  },
  {
   "cell_type": "code",
   "execution_count": 5,
   "id": "dc6a9866",
   "metadata": {},
   "outputs": [
    {
     "data": {
      "text/plain": [
       "['Dr. APJ Abdul Kalam was indeed one of the most humble, intelligent, wise, selfless, loving, \\nand lovable leaders ever born.',\n",
       " 'He was born on 15 October 1931 in Rameswaram, Tamil Nadu.',\n",
       " 'He was the 11th \\nPresident of India and served the country for one term.',\n",
       " 'Not only this, but he also is one of the most famous\\nscientists who have worked with highly famous organizations like DRDO (Defense Research and Development \\nOrganization) and ISRO (Indian Space Research Organization) in his career.',\n",
       " 'He was a true gem and a person with no haters.',\n",
       " 'But let us first know a little more about him.',\n",
       " 'His full name was\\nAvul Pakir Jainulabdeen Abdul Kalam.',\n",
       " 'He was born in a middle-class Muslim family.',\n",
       " 'Since the beginning of his days,\\nhe was a very hardworking and diligent person.',\n",
       " 'In his early childhood, he helped his family to earn livelihood \\nalong with the studies.',\n",
       " 'Being very intelligent and promising, he started his career and life soon.']"
      ]
     },
     "execution_count": 5,
     "metadata": {},
     "output_type": "execute_result"
    }
   ],
   "source": [
    "sentence=nltk.sent_tokenize(paragraph)\n",
    "sentence"
   ]
  },
  {
   "cell_type": "code",
   "execution_count": 6,
   "id": "0461b651",
   "metadata": {},
   "outputs": [],
   "source": [
    "#class call kr rhe hai\n",
    "stemmer=PorterStemmer()"
   ]
  },
  {
   "cell_type": "code",
   "execution_count": 7,
   "id": "7862ae77",
   "metadata": {},
   "outputs": [],
   "source": [
    "#here we perform stemming ....\n",
    "for i in range(len(sentence)):\n",
    "    words=nltk.word_tokenize(sentence[i])\n",
    "    words=[stemmer.stem(word) for word in words if word not in set(stopwords.words('english'))]\n",
    "    sentence[i]=\" \".join(words)"
   ]
  },
  {
   "cell_type": "code",
   "execution_count": 8,
   "id": "f5f1d1ef",
   "metadata": {},
   "outputs": [
    {
     "data": {
      "text/plain": [
       "['dr. apj abdul kalam inde one humbl , intellig , wise , selfless , love , lovabl leader ever born .',\n",
       " 'he born 15 octob 1931 rameswaram , tamil nadu .',\n",
       " 'he 11th presid india serv countri one term .',\n",
       " 'not , also one famou scientist work highli famou organ like drdo ( defens research develop organ ) isro ( indian space research organ ) career .',\n",
       " 'he true gem person hater .',\n",
       " 'but let us first know littl .',\n",
       " 'hi full name avul pakir jainulabdeen abdul kalam .',\n",
       " 'he born middle-class muslim famili .',\n",
       " 'sinc begin day , hardwork dilig person .',\n",
       " 'in earli childhood , help famili earn livelihood along studi .',\n",
       " 'be intellig promis , start career life soon .']"
      ]
     },
     "execution_count": 8,
     "metadata": {},
     "output_type": "execute_result"
    }
   ],
   "source": [
    "sentence"
   ]
  },
  {
   "cell_type": "code",
   "execution_count": null,
   "id": "8708fb70",
   "metadata": {},
   "outputs": [],
   "source": []
  }
 ],
 "metadata": {
  "kernelspec": {
   "display_name": "Python 3",
   "language": "python",
   "name": "python3"
  },
  "language_info": {
   "codemirror_mode": {
    "name": "ipython",
    "version": 3
   },
   "file_extension": ".py",
   "mimetype": "text/x-python",
   "name": "python",
   "nbconvert_exporter": "python",
   "pygments_lexer": "ipython3",
   "version": "3.8.5"
  }
 },
 "nbformat": 4,
 "nbformat_minor": 5
}
