{
 "cells": [
  {
   "cell_type": "markdown",
   "id": "7c654cde",
   "metadata": {},
   "source": [
    "# Lemmatization"
   ]
  },
  {
   "cell_type": "code",
   "execution_count": 2,
   "id": "c101d54d",
   "metadata": {},
   "outputs": [],
   "source": [
    "import nltk\n",
    "from nltk.stem import WordNetLemmatizer\n",
    "from nltk.corpus import stopwords"
   ]
  },
  {
   "cell_type": "code",
   "execution_count": 3,
   "id": "1734e976",
   "metadata": {},
   "outputs": [],
   "source": [
    "paragraph=\"\"\"Dr. APJ Abdul Kalam was indeed one of the most humble, intelligent, wise, selfless, loving, \n",
    "and lovable leaders ever born. He was born on 15 October 1931 in Rameswaram, Tamil Nadu. He was the 11th \n",
    "President of India and served the country for one term. Not only this, but he also is one of the most famous\n",
    "scientists who have worked with highly famous organizations like DRDO (Defense Research and Development \n",
    "Organization) and ISRO (Indian Space Research Organization) in his career.\n",
    "\n",
    "He was a true gem and a person with no haters. But let us first know a little more about him. His full name was\n",
    "Avul Pakir Jainulabdeen Abdul Kalam. He was born in a middle-class Muslim family. Since the beginning of his days,\n",
    "he was a very hardworking and diligent person. In his early childhood, he helped his family to earn livelihood \n",
    "along with the studies. Being very intelligent and promising, he started his career and life soon.\"\"\""
   ]
  },
  {
   "cell_type": "code",
   "execution_count": 6,
   "id": "6b721f37",
   "metadata": {},
   "outputs": [],
   "source": [
    "sentence=nltk.sent_tokenize(paragraph)"
   ]
  },
  {
   "cell_type": "code",
   "execution_count": 7,
   "id": "91cf69cc",
   "metadata": {},
   "outputs": [],
   "source": [
    "lemma=WordNetLemmatizer()"
   ]
  },
  {
   "cell_type": "code",
   "execution_count": 11,
   "id": "205d38b3",
   "metadata": {},
   "outputs": [],
   "source": [
    "for i in range(len(sentence)):\n",
    "    words=nltk.word_tokenize(sentence[i])\n",
    "    words=[lemma.lemmatize(word) for word in words if word not in set(stopwords.words('english'))]\n",
    "    sentence[i]=\" \".join(words)"
   ]
  },
  {
   "cell_type": "code",
   "execution_count": 12,
   "id": "ac25d4ef",
   "metadata": {},
   "outputs": [
    {
     "data": {
      "text/plain": [
       "['Dr. APJ Abdul Kalam indeed one humble , intelligent , wise , selfless , loving , lovable leader ever born .',\n",
       " 'He born 15 October 1931 Rameswaram , Tamil Nadu .',\n",
       " 'He 11th President India served country one term .',\n",
       " 'Not , also one famous scientist worked highly famous organization like DRDO ( Defense Research Development Organization ) ISRO ( Indian Space Research Organization ) career .',\n",
       " 'He true gem person hater .',\n",
       " 'But let u first know little .',\n",
       " 'His full name Avul Pakir Jainulabdeen Abdul Kalam .',\n",
       " 'He born middle-class Muslim family .',\n",
       " 'Since beginning day , hardworking diligent person .',\n",
       " 'In early childhood , helped family earn livelihood along study .',\n",
       " 'Being intelligent promising , started career life soon .']"
      ]
     },
     "execution_count": 12,
     "metadata": {},
     "output_type": "execute_result"
    }
   ],
   "source": []
  },
  {
   "cell_type": "code",
   "execution_count": null,
   "id": "c85cce53",
   "metadata": {},
   "outputs": [],
   "source": []
  }
 ],
 "metadata": {
  "kernelspec": {
   "display_name": "Python 3",
   "language": "python",
   "name": "python3"
  },
  "language_info": {
   "codemirror_mode": {
    "name": "ipython",
    "version": 3
   },
   "file_extension": ".py",
   "mimetype": "text/x-python",
   "name": "python",
   "nbconvert_exporter": "python",
   "pygments_lexer": "ipython3",
   "version": "3.8.5"
  }
 },
 "nbformat": 4,
 "nbformat_minor": 5
}
